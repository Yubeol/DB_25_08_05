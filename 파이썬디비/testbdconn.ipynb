{
 "cells": [
  {
   "cell_type": "code",
   "execution_count": 2,
   "id": "1bb06ded",
   "metadata": {},
   "outputs": [],
   "source": [
    "import pymysql"
   ]
  },
  {
   "cell_type": "code",
   "execution_count": 12,
   "id": "d0edcb05",
   "metadata": {},
   "outputs": [
    {
     "name": "stdout",
     "output_type": "stream",
     "text": [
      "고객 목록\n",
      "(1, 'Alice', 'alice@example.com', 'Seoul')\n",
      "(2, 'Bob', 'bob@naver.com', 'Daejun')\n",
      "(3, 'Diana', 'diana@example.com', 'Daejun')\n",
      "(4, 'Mark', 'mark@example.com', 'Incheon')\n",
      "(5, 'Moon', 'moon@example.com', 'Gwangju')\n",
      "(6, 'Eve', 'eve@example.com', 'Daegu')\n",
      "데이터베이스가 종료됨\n"
     ]
    }
   ],
   "source": [
    "conn = pymysql.connect(\n",
    "    host = 'localhost', #127.0.0.1\n",
    "    user='root',        # 계정명\n",
    "    password='1234',    # 패스워드\n",
    "    database = 'testdb', # 연동디비명\n",
    "    port=3306\n",
    ")\n",
    "try:\n",
    "    # select 조회 (고객 정보)\n",
    "    cursor = conn.cursor() # 디비 커서 가져오기\n",
    "    print('고객 목록')\n",
    "    cursor.execute('SELECT * FROM customer')\n",
    "    for row in cursor.fetchall():\n",
    "        print(row)\n",
    "finally:\n",
    "    conn.close()\n",
    "    print('데이터베이스가 종료됨')\n",
    "    \n",
    "    "
   ]
  },
  {
   "cell_type": "code",
   "execution_count": 9,
   "id": "a2364ec9",
   "metadata": {},
   "outputs": [
    {
     "name": "stdout",
     "output_type": "stream",
     "text": [
      "디비 연결 종료\n"
     ]
    }
   ],
   "source": [
    "import pymysql\n",
    "conn = pymysql.connect(\n",
    "    host = '127.0.0.1', # localhost\n",
    "    user='root',        # 계정명\n",
    "    password='1234',    # 패스워드\n",
    "    database = 'testdb', # 연동디비명\n",
    "    port=3306\n",
    ")\n",
    "try:\n",
    "    cursor = conn.cursor()\n",
    "    \n",
    "    cursor.execute(\"\"\" DELETE FROM ordertable \n",
    "                      WHERE orderid=104\n",
    "                      \"\"\")\n",
    "    conn.commit() # 디비 결과 반영\n",
    "finally:\n",
    "    conn.close()\n",
    "    print('디비 연결 종료')\n"
   ]
  },
  {
   "cell_type": "code",
   "execution_count": null,
   "id": "79563b35",
   "metadata": {},
   "outputs": [],
   "source": []
  }
 ],
 "metadata": {
  "kernelspec": {
   "display_name": "Python 3",
   "language": "python",
   "name": "python3"
  },
  "language_info": {
   "codemirror_mode": {
    "name": "ipython",
    "version": 3
   },
   "file_extension": ".py",
   "mimetype": "text/x-python",
   "name": "python",
   "nbconvert_exporter": "python",
   "pygments_lexer": "ipython3",
   "version": "3.13.5"
  }
 },
 "nbformat": 4,
 "nbformat_minor": 5
}
